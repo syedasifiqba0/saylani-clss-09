{
 "cells": [
  {
   "cell_type": "markdown",
   "id": "9212dcc1",
   "metadata": {},
   "source": [
    "# There are two tye of function:\n",
    "    Sets of statements and expression are called function \n",
    "    Decrease the repeatation of codes\n",
    "    User defined function/Pre defined function\n",
    "    *Return\n",
    "    *Non-Return function\n",
    "    *Default function\n",
    "    *required argumentsfunction\n",
    "    *lambda function\n",
    "    *Recursive\n",
    "    *Generator\n",
    "    \n",
    "    *Components of Function:\n",
    "    *Function Declaration/Function Signature\n",
    "    *def function_Name(argu1,argu2,argu3,...\n",
    "    *Function body\n",
    "    *Function Call\n",
    "    "
   ]
  },
  {
   "cell_type": "code",
   "execution_count": 2,
   "id": "3d2e7852",
   "metadata": {},
   "outputs": [
    {
     "name": "stdout",
     "output_type": "stream",
     "text": [
      "my name is asif\n",
      "I luv Pakistan\n",
      "asad\n",
      "l\n"
     ]
    }
   ],
   "source": [
    "print(\"my name is asif\")\n",
    "print(\"I luv Pakistan\")\n",
    "print(\"asad\")\n",
    "print(\"l\")\n"
   ]
  },
  {
   "cell_type": "markdown",
   "id": "ca32e892",
   "metadata": {},
   "source": [
    "# default function\n",
    "*not required any prameter when it call"
   ]
  },
  {
   "cell_type": "markdown",
   "id": "952027bb",
   "metadata": {},
   "source": [
    "Custom and  non return function"
   ]
  },
  {
   "cell_type": "code",
   "execution_count": 6,
   "id": "f37c8ca9",
   "metadata": {},
   "outputs": [
    {
     "name": "stdout",
     "output_type": "stream",
     "text": [
      "asif iqbal\n",
      "rol number :20103118\n",
      "enter yur contry name zindabad\n"
     ]
    }
   ],
   "source": [
    "car = (\"enter yur contry name\")\n",
    "def country_msg(car):\n",
    "    print(\"asif iqbal\")\n",
    "    print(\"rol number :20103118\")\n",
    "    print(f\"{car} zindabad\")\n",
    "    \n",
    "    \n",
    "country_msg(car)"
   ]
  },
  {
   "cell_type": "markdown",
   "id": "2d5fdbf3",
   "metadata": {},
   "source": [
    "# Return Function"
   ]
  },
  {
   "cell_type": "code",
   "execution_count": 9,
   "id": "80c284d6",
   "metadata": {},
   "outputs": [
    {
     "name": "stdout",
     "output_type": "stream",
     "text": [
      "enter your country name: pakistan\n",
      "enter anaother country name: indi\n",
      "asif iqbal\n",
      "roll number: 20103118 \n",
      "pakistan Zindabad\n",
      "asif iqbal\n",
      "roll number: 20103118 \n",
      "canada Zindabad\n",
      "asif iqbal\n",
      "roll number: 20103118 \n",
      "america Zindabad\n",
      "asif iqbal\n",
      "roll number: 20103118 \n",
      "indi Zindabad\n"
     ]
    }
   ],
   "source": [
    "var = input(\"enter your country name: \")\n",
    "var2 = input(\"enter anaother country name: \")\n",
    "def country_msg(var):\n",
    "    print(\"asif iqbal\")\n",
    "    print(\"roll number: 20103118 \")\n",
    "    print(f\"{var} Zindabad\")\n",
    "    return\n",
    "a = country_msg(var)\n",
    "b = country_msg(\"canada\")\n",
    "c = country_msg(\"america\")\n",
    "country_msg(var2)\n"
   ]
  },
  {
   "cell_type": "code",
   "execution_count": 24,
   "id": "89f92de0",
   "metadata": {},
   "outputs": [],
   "source": [
    "def card1(id1,name,time,batch):\n",
    "    id1 =(1,2,3,4,5),\n",
    "    name = (\"asad\",\"bilal\",\"khan\",\"sir\",\"aqib\"),\n",
    "    class1 = (1,2,3,4,5),\n",
    "    time = (\"1pm\" , \"2pm\" , \"3pm\" , \"4pm\" , \"5pm\"),\n",
    "    batch = (\"moring\",\"morning\",\"evening\",\"evening\",\"morning\")\n",
    "    \n",
    "    return card\n",
    "             \n",
    "\n",
    "\n",
    "        \n"
   ]
  },
  {
   "cell_type": "code",
   "execution_count": 37,
   "id": "69249058",
   "metadata": {},
   "outputs": [
    {
     "name": "stdout",
     "output_type": "stream",
     "text": [
      "1 23\n"
     ]
    },
    {
     "data": {
      "text/plain": [
       "24"
      ]
     },
     "execution_count": 37,
     "metadata": {},
     "output_type": "execute_result"
    }
   ],
   "source": [
    "def my_sum (num1,num2):\n",
    "    print(num1,num2)\n",
    "    return num1+num2\n",
    "\n",
    "\n",
    "my_sum(1,23)"
   ]
  },
  {
   "cell_type": "code",
   "execution_count": 42,
   "id": "1665bd5e",
   "metadata": {},
   "outputs": [
    {
     "name": "stdout",
     "output_type": "stream",
     "text": [
      "-54 65\n"
     ]
    },
    {
     "data": {
      "text/plain": [
       "-119"
      ]
     },
     "execution_count": 42,
     "metadata": {},
     "output_type": "execute_result"
    }
   ],
   "source": [
    "def my_dif (num1,num2):\n",
    "    print(num1,num2)\n",
    "    return num1-num2\n",
    "\n",
    "my_dif(-54,65)\n"
   ]
  },
  {
   "cell_type": "code",
   "execution_count": 39,
   "id": "81ef8c6c",
   "metadata": {},
   "outputs": [
    {
     "name": "stdout",
     "output_type": "stream",
     "text": [
      "23 2\n"
     ]
    },
    {
     "data": {
      "text/plain": [
       "25"
      ]
     },
     "execution_count": 39,
     "metadata": {},
     "output_type": "execute_result"
    }
   ],
   "source": [
    "def my_product (num1,num2):\n",
    "    print(num1,num2)\n",
    "    return num1+num2\n",
    "\n",
    "my_product(23,2)\n",
    " "
   ]
  },
  {
   "cell_type": "markdown",
   "id": "531a4610",
   "metadata": {},
   "source": [
    "# create unlimited key word argument:\n",
    "*add ** before any parameter during declaring time\n",
    "* def my_sum(num1,**value):"
   ]
  },
  {
   "cell_type": "code",
   "execution_count": 46,
   "id": "563ee5e9",
   "metadata": {},
   "outputs": [
    {
     "name": "stdout",
     "output_type": "stream",
     "text": [
      "{'num1': 7, 'tea': 2, 'milk': '1kg'}\n",
      "<class 'dict'>\n"
     ]
    }
   ],
   "source": [
    "def abc (**values):\n",
    "    print(values)\n",
    "    print(type(values))\n",
    "    \n",
    "abc(num1=7,tea=2,milk=\"1kg\")"
   ]
  },
  {
   "cell_type": "code",
   "execution_count": 58,
   "id": "caf44b59",
   "metadata": {},
   "outputs": [],
   "source": [
    "def my_custom_function(num1,num2=7,*value1,**dict1):\n",
    "    print(\"required propositional argument num1 =\",num1, type(num1))\n",
    "    print(\"propositional default parameter value  argument num2 =\" ,num2,type(num2))\n",
    "    print(\"propositional unlimited arguments \",value,type(value))\n",
    "    print(\"unlimitd key/word\",dict1,type(dict1))\n",
    "    #y_custom_function(20,20,34,56,45)"
   ]
  },
  {
   "cell_type": "code",
   "execution_count": 55,
   "id": "8b9a7877",
   "metadata": {},
   "outputs": [
    {
     "name": "stdout",
     "output_type": "stream",
     "text": [
      "required propositional argument num1 = 200 <class 'int'>\n",
      "propositional default parameter value , argument num2 = 7 <class 'int'>\n"
     ]
    },
    {
     "ename": "NameError",
     "evalue": "name 'value' is not defined",
     "output_type": "error",
     "traceback": [
      "\u001b[1;31m---------------------------------------------------------------------------\u001b[0m",
      "\u001b[1;31mNameError\u001b[0m                                 Traceback (most recent call last)",
      "Input \u001b[1;32mIn [55]\u001b[0m, in \u001b[0;36m<cell line: 1>\u001b[1;34m()\u001b[0m\n\u001b[1;32m----> 1\u001b[0m \u001b[43mmy_custom_function\u001b[49m\u001b[43m(\u001b[49m\u001b[38;5;241;43m200\u001b[39;49m\u001b[43m)\u001b[49m\n",
      "Input \u001b[1;32mIn [54]\u001b[0m, in \u001b[0;36mmy_custom_function\u001b[1;34m(num1, num2, *value1, **dict1)\u001b[0m\n\u001b[0;32m      2\u001b[0m \u001b[38;5;28mprint\u001b[39m(\u001b[38;5;124m\"\u001b[39m\u001b[38;5;124mrequired propositional argument num1 =\u001b[39m\u001b[38;5;124m\"\u001b[39m,num1, \u001b[38;5;28mtype\u001b[39m(num1))\n\u001b[0;32m      3\u001b[0m \u001b[38;5;28mprint\u001b[39m(\u001b[38;5;124m\"\u001b[39m\u001b[38;5;124mpropositional default parameter value , argument num2 =\u001b[39m\u001b[38;5;124m\"\u001b[39m ,num2,\u001b[38;5;28mtype\u001b[39m(num2))\n\u001b[1;32m----> 4\u001b[0m \u001b[38;5;28mprint\u001b[39m(\u001b[38;5;124m\"\u001b[39m\u001b[38;5;124mpropositional unlimited arguments \u001b[39m\u001b[38;5;124m\"\u001b[39m,\u001b[43mvalue\u001b[49m,\u001b[38;5;28mtype\u001b[39m(value))\n\u001b[0;32m      5\u001b[0m \u001b[38;5;28mprint\u001b[39m(\u001b[38;5;124m\"\u001b[39m\u001b[38;5;124munlimitd key/word\u001b[39m\u001b[38;5;124m\"\u001b[39m,dict1,\u001b[38;5;28mtype\u001b[39m(dict1))\n",
      "\u001b[1;31mNameError\u001b[0m: name 'value' is not defined"
     ]
    }
   ],
   "source": [
    "my_custom_function(200)"
   ]
  },
  {
   "cell_type": "code",
   "execution_count": 59,
   "id": "cd0b5e4d",
   "metadata": {},
   "outputs": [
    {
     "data": {
      "text/plain": [
       "9"
      ]
     },
     "execution_count": 59,
     "metadata": {},
     "output_type": "execute_result"
    }
   ],
   "source": [
    "def add_two_num(num1:int,num2:int):\n",
    "    return num1+num2\n",
    "\n",
    "add_two_num(5,4)"
   ]
  },
  {
   "cell_type": "code",
   "execution_count": 70,
   "id": "5aeedf13",
   "metadata": {},
   "outputs": [
    {
     "data": {
      "text/plain": [
       "'Syed Asif'"
      ]
     },
     "execution_count": 70,
     "metadata": {},
     "output_type": "execute_result"
    }
   ],
   "source": [
    "def add_two_name(name1 :str , name2:str):\n",
    "    return  name1 + name2\n",
    "\n",
    "add_two_name(\"Syed \" , \"Asif\" )\n",
    " "
   ]
  },
  {
   "cell_type": "markdown",
   "id": "54857f08",
   "metadata": {},
   "source": [
    "*function must be nameless\n",
    " *function must in one line \n",
    " *function must be used before and after using of that function\n",
    " *such functions are called Lambda Function"
   ]
  },
  {
   "cell_type": "code",
   "execution_count": 73,
   "id": "c1c5a9ed",
   "metadata": {},
   "outputs": [
    {
     "data": {
      "text/plain": [
       "90"
      ]
     },
     "execution_count": 73,
     "metadata": {},
     "output_type": "execute_result"
    }
   ],
   "source": [
    "a  =  lambda name1,name2 : name1+name2\n",
    "a(67,23)"
   ]
  },
  {
   "cell_type": "code",
   "execution_count": 74,
   "id": "7b157616",
   "metadata": {},
   "outputs": [
    {
     "data": {
      "text/plain": [
       "16"
      ]
     },
     "execution_count": 74,
     "metadata": {},
     "output_type": "execute_result"
    }
   ],
   "source": [
    "b  = lambda int1,int2,int3,int4 : int1*int2*int3*int4\n",
    "b(2,2,2,2)"
   ]
  },
  {
   "cell_type": "code",
   "execution_count": 90,
   "id": "8de5b095",
   "metadata": {},
   "outputs": [
    {
     "data": {
      "text/plain": [
       "'syed asif iqbal shah sarkar '"
      ]
     },
     "execution_count": 90,
     "metadata": {},
     "output_type": "execute_result"
    }
   ],
   "source": [
    "c = lambda str1,str2,str3,str4,str5 : str1 +str2 +str3 +str4 +str5\n",
    "c(\"syed \",\"asif \",\"iqbal \",\"shah \",\"sarkar \")"
   ]
  },
  {
   "cell_type": "code",
   "execution_count": 85,
   "id": "ab89cccd",
   "metadata": {},
   "outputs": [
    {
     "data": {
      "text/plain": [
       "76.0"
      ]
     },
     "execution_count": 85,
     "metadata": {},
     "output_type": "execute_result"
    }
   ],
   "source": [
    "x = lambda int1,int2,int3,int4,int5,int6,int7 : int1 / int2*int3+int4+int5+int6+int7\n",
    "x(40,2,3,4,4,4,4)"
   ]
  },
  {
   "cell_type": "code",
   "execution_count": 88,
   "id": "e0b34b48",
   "metadata": {},
   "outputs": [
    {
     "data": {
      "text/plain": [
       "4"
      ]
     },
     "execution_count": 88,
     "metadata": {},
     "output_type": "execute_result"
    }
   ],
   "source": [
    "g = lambda int1,int2,int3,int4: int1**int2**int3**int4\n",
    "g(2,2,1,1)"
   ]
  },
  {
   "cell_type": "code",
   "execution_count": null,
   "id": "c834b5a3",
   "metadata": {},
   "outputs": [],
   "source": []
  }
 ],
 "metadata": {
  "kernelspec": {
   "display_name": "Python 3 (ipykernel)",
   "language": "python",
   "name": "python3"
  },
  "language_info": {
   "codemirror_mode": {
    "name": "ipython",
    "version": 3
   },
   "file_extension": ".py",
   "mimetype": "text/x-python",
   "name": "python",
   "nbconvert_exporter": "python",
   "pygments_lexer": "ipython3",
   "version": "3.9.12"
  }
 },
 "nbformat": 4,
 "nbformat_minor": 5
}
